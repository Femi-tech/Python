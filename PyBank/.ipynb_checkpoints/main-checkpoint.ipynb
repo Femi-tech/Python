{
 "cells": [
  {
   "cell_type": "code",
   "execution_count": 1,
   "metadata": {},
   "outputs": [],
   "source": [
    "from pathlib import Path\n",
    "csv_path = Path (\"budget_data.csv\")\n",
    "import csv"
   ]
  },
  {
   "cell_type": "code",
   "execution_count": 12,
   "metadata": {},
   "outputs": [
    {
     "name": "stdout",
     "output_type": "stream",
     "text": [
      "Total:86\n",
      "Net Profit/Losses:38382578\n",
      "Average:446309.0465116279\n",
      "Greatest increase:1170593\n",
      "Greatest decrease:-1196225\n"
     ]
    }
   ],
   "source": [
    "total = 0\n",
    "net_profit_ls = 0\n",
    "greatest_inc = 0\n",
    "greatest_dcr = 0\n",
    "with open(csv_path,\"r\") as csvfile:\n",
    "    budget_df = csv.reader(csvfile)\n",
    "    header = next(budget_df)\n",
    "    for x in budget_df:\n",
    "        total = total +1\n",
    "        net_profit_ls = net_profit_ls + int(x[1])\n",
    "        if int(x[1]) > greatest_inc:\n",
    "            greatest_inc = int(x[1])\n",
    "        elif int(x[1]) < greatest_dcr:\n",
    "            greatest_dcr = int(x[1])\n",
    "average = net_profit_ls/total\n",
    "##The total number of months included in the dataset.\n",
    "print(f\"Total:{total}\")\n",
    "##The net total amount of Profit/Losses over the entire period.\n",
    "print(f\"Net Profit/Losses:{net_profit_ls}\")\n",
    "##The average of the changes in Profit/Losses over the entire period.\n",
    "print(f\"Average:{average}\")\n",
    "##The greatest increase in profits (date and amount) over the entire period.\n",
    "print(f\"Greatest increase:{greatest_inc}\")\n",
    "##The greatest decrease in losses (date and amount) over the entire period.\n",
    "print(f\"Greatest decrease:{greatest_dcr}\")"
   ]
  },
  {
   "cell_type": "code",
   "execution_count": 13,
   "metadata": {},
   "outputs": [],
   "source": [
    "# Set output file name\n",
    "output_path = 'Financial_Analysis.txt'"
   ]
  },
  {
   "cell_type": "code",
   "execution_count": 14,
   "metadata": {},
   "outputs": [],
   "source": [
    "# Open the output path as a file object\n",
    "with open(output_path, 'w') as file:\n",
    "    # Write daily_average to the output file, convert to string\n",
    "    file.write(f\"Total:{total}\\n\")\n",
    "    file.write(f\"Net Profit/Losses:{net_profit_ls}\\n\")\n",
    "    file.write(f\"Average:{average}\\n\")\n",
    "    file.write(f\"Greatest increase:{greatest_inc}\\n\")\n",
    "    file.write(f\"Greatest decrease:{greatest_dcr}\\n\")"
   ]
  },
  {
   "cell_type": "code",
   "execution_count": null,
   "metadata": {},
   "outputs": [],
   "source": []
  }
 ],
 "metadata": {
  "kernelspec": {
   "display_name": "Python 3",
   "language": "python",
   "name": "python3"
  },
  "language_info": {
   "codemirror_mode": {
    "name": "ipython",
    "version": 3
   },
   "file_extension": ".py",
   "mimetype": "text/x-python",
   "name": "python",
   "nbconvert_exporter": "python",
   "pygments_lexer": "ipython3",
   "version": "3.7.6"
  }
 },
 "nbformat": 4,
 "nbformat_minor": 4
}
